{
  "nbformat": 4,
  "nbformat_minor": 0,
  "metadata": {
    "colab": {
      "provenance": [],
      "authorship_tag": "ABX9TyMn8K+lfZz1p/wSSf0jHnpc",
      "include_colab_link": true
    },
    "kernelspec": {
      "name": "python3",
      "display_name": "Python 3"
    },
    "language_info": {
      "name": "python"
    }
  },
  "cells": [
    {
      "cell_type": "markdown",
      "metadata": {
        "id": "view-in-github",
        "colab_type": "text"
      },
      "source": [
        "<a href=\"https://colab.research.google.com/github/254-KIPSANG/EDA--PYTHON/blob/main/dcg_parser.ipynb\" target=\"_parent\"><img src=\"https://colab.research.google.com/assets/colab-badge.svg\" alt=\"Open In Colab\"/></a>"
      ]
    },
    {
      "cell_type": "code",
      "execution_count": 11,
      "metadata": {
        "colab": {
          "base_uri": "https://localhost:8080/"
        },
        "id": "Bavahefii_Eb",
        "outputId": "6ab09bf8-5938-4131-cb58-689c801debf9"
      },
      "outputs": [
        {
          "output_type": "stream",
          "name": "stdout",
          "text": [
            "Parsing sentence: the carrot eats the carrot\n",
            "Parse Tree 1:\n",
            "                S                 \n",
            "      __________|____              \n",
            "     |               VP           \n",
            "     |           ____|___          \n",
            "     NP         |        NP       \n",
            "  ___|____      |     ___|____     \n",
            "Det       N     V   Det       N   \n",
            " |        |     |    |        |    \n",
            "the     carrot eats the     carrot\n",
            "\n",
            "Parsing sentence: the rabbits eats the carrot\n",
            "Parse Tree 1:\n",
            "                 S                 \n",
            "      ___________|____              \n",
            "     |                VP           \n",
            "     |            ____|___          \n",
            "     NP          |        NP       \n",
            "  ___|_____      |     ___|____     \n",
            "Det        N     V   Det       N   \n",
            " |         |     |    |        |    \n",
            "the     rabbits eats the     carrot\n",
            "\n",
            "Parsing sentence: the rabbit eats carrots\n",
            "No parse tree found for the sentence.\n",
            "\n"
          ]
        }
      ],
      "source": [
        "import nltk\n",
        "\n",
        "# Define the DCG grammar\n",
        "grammar = nltk.CFG.fromstring(\"\"\"\n",
        "    S -> NP VP\n",
        "    NP -> Det N\n",
        "    VP -> V NP\n",
        "    Det -> 'the' | 'a'\n",
        "    N -> 'carrot' | 'rabbits' | 'rabbit' | 'carrots'\n",
        "    V -> 'eats'\n",
        "\"\"\")\n",
        "\n",
        "# Create a parser\n",
        "parser = nltk.ChartParser(grammar)\n",
        "\n",
        "# Function to parse a sentence and print the parse tree\n",
        "def parse_sentence(sentence):\n",
        "    print(\"Parsing sentence:\", sentence)\n",
        "    parses = list(parser.parse(sentence.split()))\n",
        "    if parses:\n",
        "        # If there are parse trees found for the sentence\n",
        "        for idx, parse in enumerate(parses, start=1):\n",
        "            print(f\"Parse Tree {idx}:\")\n",
        "            parse.pretty_print()  # Print the parse tree\n",
        "    else:\n",
        "        # If no parse tree is found for the sentence\n",
        "        print(\"No parse tree found for the sentence.\\n\")\n",
        "\n",
        "# Exercise 1 sentences\n",
        "sentences = [\n",
        "    \"the carrot eats the carrot\",\n",
        "    \"the rabbits eats the carrot\",\n",
        "    \"the rabbit eats carrots\"\n",
        "]\n",
        "\n",
        "# Parse each sentence and print the parse tree\n",
        "for sentence in sentences:\n",
        "    parse_sentence(sentence)\n"
      ]
    },
    {
      "cell_type": "code",
      "source": [
        "import nltk\n",
        "\n",
        "# Define the DCG grammar for the extended language\n",
        "extended_grammar = nltk.CFG.fromstring(\"\"\"\n",
        "    S -> NP VP\n",
        "    NP -> Det N | Det N NP\n",
        "    VP -> Verb NP\n",
        "    Det -> 'the' | 'a' | 'all' | 'some' | 'every'\n",
        "    N -> 'carrot' | 'rabbits' | 'rabbit' | 'carrots'\n",
        "    Verb -> 'eats' | 'eat'\n",
        "\"\"\")\n",
        "\n",
        "# Create a parser\n",
        "parser = nltk.ChartParser(extended_grammar)\n",
        "\n",
        "# Function to parse a sentence and print the parse tree\n",
        "def parse_sentence(sentence):\n",
        "    print(\"Parsing sentence:\", sentence)\n",
        "    parses = list(parser.parse(sentence.split()))\n",
        "    if parses:\n",
        "        # If there are parse trees found for the sentence\n",
        "        for idx, parse in enumerate(parses, start=1):\n",
        "            print(f\"Parse Tree {idx}:\")\n",
        "            parse.pretty_print()  # Print the parse tree\n",
        "        print(\"Yes\")  # Print \"Yes\" indicating a parse tree is found\n",
        "    else:\n",
        "        # If no parse tree is found for the sentence\n",
        "        print(\"No\")  # Print \"No\" indicating no parse tree is found\n",
        "\n",
        "# Test sentences for the extended grammar\n",
        "test_sentences = [\n",
        "    \"all rabbits eat carrots\",\n",
        "    \"some rabbits eat the carrot\",\n",
        "    \"the rabbit eats every carrot\"\n",
        "]\n",
        "\n",
        "# Parse each test sentence and print the parse tree\n",
        "for idx, sentence in enumerate(test_sentences, start=1):\n",
        "    print(f\"Sentence {idx}:\")\n",
        "    parse_sentence(sentence)\n",
        "    if idx < len(test_sentences):\n",
        "        print()  # Add a newline between sentences\n"
      ],
      "metadata": {
        "colab": {
          "base_uri": "https://localhost:8080/"
        },
        "id": "Vd-57O9Gzy2G",
        "outputId": "897e9d5b-76b5-4cfe-d2c5-6595aa08e8f6"
      },
      "execution_count": 17,
      "outputs": [
        {
          "output_type": "stream",
          "name": "stdout",
          "text": [
            "Sentence 1:\n",
            "Parsing sentence: all rabbits eat carrots\n",
            "No\n",
            "\n",
            "Sentence 2:\n",
            "Parsing sentence: some rabbits eat the carrot\n",
            "Parse Tree 1:\n",
            "                  S                 \n",
            "       ___________|____              \n",
            "      |                VP           \n",
            "      |            ____|___          \n",
            "      NP          |        NP       \n",
            "  ____|_____      |     ___|____     \n",
            "Det         N    Verb Det       N   \n",
            " |          |     |    |        |    \n",
            "some     rabbits eat  the     carrot\n",
            "\n",
            "Yes\n",
            "\n",
            "Sentence 3:\n",
            "Parsing sentence: the rabbit eats every carrot\n",
            "Parse Tree 1:\n",
            "                S                   \n",
            "      __________|_____               \n",
            "     |                VP            \n",
            "     |           _____|____          \n",
            "     NP         |          NP       \n",
            "  ___|____      |      ____|____     \n",
            "Det       N    Verb  Det        N   \n",
            " |        |     |     |         |    \n",
            "the     rabbit eats every     carrot\n",
            "\n",
            "Yes\n"
          ]
        }
      ]
    },
    {
      "cell_type": "code",
      "source": [],
      "metadata": {
        "id": "RsgUcbc1zzcB"
      },
      "execution_count": null,
      "outputs": []
    }
  ]
}