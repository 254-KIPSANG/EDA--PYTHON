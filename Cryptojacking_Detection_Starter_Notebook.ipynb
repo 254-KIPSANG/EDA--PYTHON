{
  "cells": [
    {
      "cell_type": "markdown",
      "metadata": {
        "id": "view-in-github",
        "colab_type": "text"
      },
      "source": [
        "<a href=\"https://colab.research.google.com/github/CYRCHER/EDA--PYTHON/blob/main/Cryptojacking_Detection_Starter_Notebook.ipynb\" target=\"_parent\"><img src=\"https://colab.research.google.com/assets/colab-badge.svg\" alt=\"Open In Colab\"/></a>"
      ]
    },
    {
      "cell_type": "code",
      "execution_count": null,
      "metadata": {
        "id": "nSw9DPIGREw9"
      },
      "outputs": [],
      "source": [
        "SEED = 1221\n",
        "\n",
        "import pandas as pd\n",
        "import numpy as np\n",
        "\n",
        "import seaborn as sns\n",
        "import matplotlib.pyplot as plt\n",
        "from sklearn.model_selection import train_test_split\n",
        "from sklearn.metrics import classification_report\n",
        "from sklearn.ensemble import RandomForestClassifier\n",
        "from sklearn.preprocessing import StandardScaler\n",
        "\n",
        "\n"
      ]
    },
    {
      "cell_type": "code",
      "execution_count": null,
      "metadata": {
        "id": "oC-j51UlREw_"
      },
      "outputs": [],
      "source": [
        "train = pd.read_csv('Train.csv')\n",
        "test = pd.read_csv('Test.csv')\n",
        "samplesubmission = pd.read_csv('SampleSubmission.csv')\n",
        "\n"
      ]
    },
    {
      "cell_type": "code",
      "execution_count": null,
      "metadata": {
        "id": "Ph7eXdG2RExA"
      },
      "outputs": [],
      "source": [
        "features = train.drop(columns=['ID','Label']).columns\n",
        "target = 'Label'\n",
        "\n"
      ]
    },
    {
      "cell_type": "code",
      "execution_count": null,
      "metadata": {
        "id": "cVSA1sYaRExA"
      },
      "outputs": [],
      "source": [
        "scaler = StandardScaler()\n",
        "\n"
      ]
    },
    {
      "cell_type": "code",
      "execution_count": null,
      "metadata": {
        "id": "2JUG6lioRExA"
      },
      "outputs": [],
      "source": [
        "train[features] = scaler.fit_transform(train[features])\n",
        "test[features] = scaler.transform(test[features])\n",
        "\n"
      ]
    },
    {
      "cell_type": "code",
      "execution_count": null,
      "metadata": {
        "id": "lSYrKwGyRExA"
      },
      "outputs": [],
      "source": [
        "X_train, X_test, y_train, y_test = train_test_split(train[features], \n",
        "                                                    train[target].to_frame(),\n",
        "                                                    stratify=train[target],\n",
        "                                                    test_size=0.3,\n",
        "                                                    random_state=SEED)\n",
        "\n"
      ]
    },
    {
      "cell_type": "code",
      "execution_count": null,
      "metadata": {
        "id": "rEBvLH6_RExA",
        "outputId": "eee2513d-f2ef-4ad4-9934-9dcaf74bb7e2"
      },
      "outputs": [
        {
          "name": "stderr",
          "output_type": "stream",
          "text": [
            "C:\\Users\\KALITOH\\AppData\\Local\\Temp\\ipykernel_1488\\3603371000.py:2: DataConversionWarning: A column-vector y was passed when a 1d array was expected. Please change the shape of y to (n_samples,), for example using ravel().\n",
            "  model.fit(X_train, y_train)\n"
          ]
        },
        {
          "data": {
            "text/plain": [
              "RandomForestClassifier(random_state=1221)"
            ]
          },
          "execution_count": 19,
          "metadata": {},
          "output_type": "execute_result"
        }
      ],
      "source": [
        "model = RandomForestClassifier(random_state=SEED)\n",
        "model.fit(X_train, y_train)\n"
      ]
    },
    {
      "cell_type": "code",
      "execution_count": null,
      "metadata": {
        "id": "I1iw7gOzRExB"
      },
      "outputs": [],
      "source": [
        "\n",
        "preds = model.predict(X_test)\n",
        "\n"
      ]
    },
    {
      "cell_type": "code",
      "execution_count": null,
      "metadata": {
        "id": "Q_Jfzad6RExB",
        "outputId": "4ae288ce-ddf2-40d9-e527-c57f0c521c42"
      },
      "outputs": [
        {
          "name": "stdout",
          "output_type": "stream",
          "text": [
            "              precision    recall  f1-score   support\n",
            "\n",
            "           0       0.97      0.99      0.98      1952\n",
            "           1       0.96      0.90      0.93       721\n",
            "\n",
            "    accuracy                           0.97      2673\n",
            "   macro avg       0.96      0.95      0.95      2673\n",
            "weighted avg       0.97      0.97      0.96      2673\n",
            "\n"
          ]
        }
      ],
      "source": [
        "print(classification_report(y_test, preds))\n",
        "\n",
        "test['Target'] = model.predict(test[features])\n",
        "\n",
        "sub = test[['ID', 'Target']]\n",
        "\n",
        "sub.to_csv('UHA_23_crypto_rf.csv', index=False)"
      ]
    }
  ],
  "metadata": {
    "kernelspec": {
      "display_name": "base",
      "language": "python",
      "name": "python3"
    },
    "language_info": {
      "codemirror_mode": {
        "name": "ipython",
        "version": 3
      },
      "file_extension": ".py",
      "mimetype": "text/x-python",
      "name": "python",
      "nbconvert_exporter": "python",
      "pygments_lexer": "ipython3",
      "version": "3.9.13"
    },
    "orig_nbformat": 4,
    "colab": {
      "provenance": [],
      "include_colab_link": true
    }
  },
  "nbformat": 4,
  "nbformat_minor": 0
}